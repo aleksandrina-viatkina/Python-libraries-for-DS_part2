{
 "cells": [
  {
   "cell_type": "markdown",
   "metadata": {},
   "source": [
    "# Курсовой проект"
   ]
  },
  {
   "cell_type": "markdown",
   "metadata": {},
   "source": [
    "## Задание\n",
    "\n",
    "Требуется, на основании имеющихся данных о клиентах банка, построить модель, используя обучающий датасет, для прогнозирования невыполнения долговых обязательств по текущему кредиту. Выполнить прогноз для примеров из тестового датасета.\n",
    "\n",
    "#### Наименование файлов с данными\n",
    "\n",
    "course_project_train.csv - обучающий датасет\n",
    "course_project_test.csv - тестовый датасет\n",
    "\n",
    "#### Целевая переменная\n",
    "\n",
    "Credit Default - факт невыполнения кредитных обязательств\n",
    "\n",
    "#### Метрика качества\n",
    "\n",
    "F1-score (sklearn.metrics.f1_score)\n",
    "\n",
    "#### Требования к решению\n",
    "\n",
    "##### Целевая метрика\n",
    "\n",
    "F1 > 0.5\n",
    "Метрика оценивается по качеству прогноза для главного класса (1 - просрочка по кредиту)"
   ]
  },
  {
   "cell_type": "markdown",
   "metadata": {},
   "source": [
    "### Обзор данных\n",
    "\n",
    "#### Описание датасета\n",
    "\n",
    "* **Home Ownership** - домовладение\n",
    "* **Annual Income** - годовой доход\n",
    "* **Years in current job** - количество лет на текущем месте работы\n",
    "* **Tax Liens** - налоговые обременения\n",
    "* **Number of Open Accounts** - количество открытых счетов\n",
    "* **Years of Credit History** - количество лет кредитной истории\n",
    "* **Maximum Open Credit** - наибольший открытый кредит\n",
    "* **Number of Credit Problems** - количество проблем с кредитом\n",
    "* **Months since last delinquent** - количество месяцев с последней просрочки платежа\n",
    "* **Bankruptcies** - банкротства\n",
    "* **Purpose** - цель кредита\n",
    "* **Term** - срок кредита\n",
    "* **Current Loan Amount** - текущая сумма кредита\n",
    "* **Current Credit Balance** - текущий кредитный баланс\n",
    "* **Monthly Debt** - ежемесячный долг\n",
    "* **Credit Default** - факт невыполнения кредитных обязательств (0 - погашен вовремя, 1 - просрочка)"
   ]
  },
  {
   "cell_type": "markdown",
   "metadata": {},
   "source": [
    "### Загрузка библиотек"
   ]
  },
  {
   "cell_type": "code",
   "execution_count": 2,
   "metadata": {},
   "outputs": [],
   "source": [
    "import pandas as pd\n",
    "import numpy as np\n",
    "from pathlib import Path\n",
    "\n",
    "from sklearn.ensemble import RandomForestRegressor\n",
    "from sklearn.metrics import r2_score\n",
    "from sklearn.metrics import f1_score\n",
    "from sklearn.metrics import precision_score\n",
    "from sklearn.metrics import recall_score\n",
    "from sklearn.preprocessing import StandardScaler\n",
    "\n",
    "from sklearn.model_selection import train_test_split, cross_val_score\n",
    "from sklearn.metrics import classification_report, f1_score, precision_score, recall_score\n",
    "from sklearn.model_selection import StratifiedKFold, GridSearchCV, RandomizedSearchCV\n",
    "\n",
    "from sklearn.linear_model import LogisticRegression, LogisticRegressionCV\n",
    "from sklearn.tree import DecisionTreeClassifier\n",
    "from sklearn.ensemble import RandomForestClassifier\n",
    "from sklearn.svm import SVC\n",
    "from sklearn.neighbors import KNeighborsClassifier\n",
    "#import xgboost as xgb\n",
    "#import lightgbm as lgbm\n",
    "#import catboost as catb\n",
    "\n",
    "import seaborn as sns\n",
    "from matplotlib import pyplot as plt\n",
    "%matplotlib inline\n",
    "\n",
    "import random\n",
    "\n",
    "import warnings\n",
    "warnings.filterwarnings('ignore')"
   ]
  },
  {
   "cell_type": "markdown",
   "metadata": {},
   "source": [
    "### Пути к директориям и файлам"
   ]
  },
  {
   "cell_type": "code",
   "execution_count": 3,
   "metadata": {},
   "outputs": [],
   "source": [
    "TRAIN_DATASET_PATH = 'train.csv'\n",
    "TEST_DATASET_PATH = 'test.csv'"
   ]
  },
  {
   "cell_type": "code",
   "execution_count": 4,
   "metadata": {},
   "outputs": [
    {
     "data": {
      "text/html": [
       "<div>\n",
       "<style scoped>\n",
       "    .dataframe tbody tr th:only-of-type {\n",
       "        vertical-align: middle;\n",
       "    }\n",
       "\n",
       "    .dataframe tbody tr th {\n",
       "        vertical-align: top;\n",
       "    }\n",
       "\n",
       "    .dataframe thead th {\n",
       "        text-align: right;\n",
       "    }\n",
       "</style>\n",
       "<table border=\"1\" class=\"dataframe\">\n",
       "  <thead>\n",
       "    <tr style=\"text-align: right;\">\n",
       "      <th></th>\n",
       "      <th>Home Ownership</th>\n",
       "      <th>Annual Income</th>\n",
       "      <th>Years in current job</th>\n",
       "      <th>Tax Liens</th>\n",
       "      <th>Number of Open Accounts</th>\n",
       "      <th>Years of Credit History</th>\n",
       "      <th>Maximum Open Credit</th>\n",
       "      <th>Number of Credit Problems</th>\n",
       "      <th>Months since last delinquent</th>\n",
       "      <th>Bankruptcies</th>\n",
       "      <th>Purpose</th>\n",
       "      <th>Term</th>\n",
       "      <th>Current Loan Amount</th>\n",
       "      <th>Current Credit Balance</th>\n",
       "      <th>Monthly Debt</th>\n",
       "      <th>Credit Score</th>\n",
       "      <th>Credit Default</th>\n",
       "    </tr>\n",
       "  </thead>\n",
       "  <tbody>\n",
       "    <tr>\n",
       "      <th>0</th>\n",
       "      <td>Own Home</td>\n",
       "      <td>482087.0</td>\n",
       "      <td>NaN</td>\n",
       "      <td>0.0</td>\n",
       "      <td>11.0</td>\n",
       "      <td>26.3</td>\n",
       "      <td>685960.0</td>\n",
       "      <td>1.0</td>\n",
       "      <td>NaN</td>\n",
       "      <td>1.0</td>\n",
       "      <td>debt consolidation</td>\n",
       "      <td>Short Term</td>\n",
       "      <td>99999999.0</td>\n",
       "      <td>47386.0</td>\n",
       "      <td>7914.0</td>\n",
       "      <td>749.0</td>\n",
       "      <td>0</td>\n",
       "    </tr>\n",
       "    <tr>\n",
       "      <th>1</th>\n",
       "      <td>Own Home</td>\n",
       "      <td>1025487.0</td>\n",
       "      <td>10+ years</td>\n",
       "      <td>0.0</td>\n",
       "      <td>15.0</td>\n",
       "      <td>15.3</td>\n",
       "      <td>1181730.0</td>\n",
       "      <td>0.0</td>\n",
       "      <td>NaN</td>\n",
       "      <td>0.0</td>\n",
       "      <td>debt consolidation</td>\n",
       "      <td>Long Term</td>\n",
       "      <td>264968.0</td>\n",
       "      <td>394972.0</td>\n",
       "      <td>18373.0</td>\n",
       "      <td>737.0</td>\n",
       "      <td>1</td>\n",
       "    </tr>\n",
       "    <tr>\n",
       "      <th>2</th>\n",
       "      <td>Home Mortgage</td>\n",
       "      <td>751412.0</td>\n",
       "      <td>8 years</td>\n",
       "      <td>0.0</td>\n",
       "      <td>11.0</td>\n",
       "      <td>35.0</td>\n",
       "      <td>1182434.0</td>\n",
       "      <td>0.0</td>\n",
       "      <td>NaN</td>\n",
       "      <td>0.0</td>\n",
       "      <td>debt consolidation</td>\n",
       "      <td>Short Term</td>\n",
       "      <td>99999999.0</td>\n",
       "      <td>308389.0</td>\n",
       "      <td>13651.0</td>\n",
       "      <td>742.0</td>\n",
       "      <td>0</td>\n",
       "    </tr>\n",
       "    <tr>\n",
       "      <th>3</th>\n",
       "      <td>Own Home</td>\n",
       "      <td>805068.0</td>\n",
       "      <td>6 years</td>\n",
       "      <td>0.0</td>\n",
       "      <td>8.0</td>\n",
       "      <td>22.5</td>\n",
       "      <td>147400.0</td>\n",
       "      <td>1.0</td>\n",
       "      <td>NaN</td>\n",
       "      <td>1.0</td>\n",
       "      <td>debt consolidation</td>\n",
       "      <td>Short Term</td>\n",
       "      <td>121396.0</td>\n",
       "      <td>95855.0</td>\n",
       "      <td>11338.0</td>\n",
       "      <td>694.0</td>\n",
       "      <td>0</td>\n",
       "    </tr>\n",
       "    <tr>\n",
       "      <th>4</th>\n",
       "      <td>Rent</td>\n",
       "      <td>776264.0</td>\n",
       "      <td>8 years</td>\n",
       "      <td>0.0</td>\n",
       "      <td>13.0</td>\n",
       "      <td>13.6</td>\n",
       "      <td>385836.0</td>\n",
       "      <td>1.0</td>\n",
       "      <td>NaN</td>\n",
       "      <td>0.0</td>\n",
       "      <td>debt consolidation</td>\n",
       "      <td>Short Term</td>\n",
       "      <td>125840.0</td>\n",
       "      <td>93309.0</td>\n",
       "      <td>7180.0</td>\n",
       "      <td>719.0</td>\n",
       "      <td>0</td>\n",
       "    </tr>\n",
       "  </tbody>\n",
       "</table>\n",
       "</div>"
      ],
      "text/plain": [
       "  Home Ownership  Annual Income Years in current job  Tax Liens  \\\n",
       "0       Own Home       482087.0                  NaN        0.0   \n",
       "1       Own Home      1025487.0            10+ years        0.0   \n",
       "2  Home Mortgage       751412.0              8 years        0.0   \n",
       "3       Own Home       805068.0              6 years        0.0   \n",
       "4           Rent       776264.0              8 years        0.0   \n",
       "\n",
       "   Number of Open Accounts  Years of Credit History  Maximum Open Credit  \\\n",
       "0                     11.0                     26.3             685960.0   \n",
       "1                     15.0                     15.3            1181730.0   \n",
       "2                     11.0                     35.0            1182434.0   \n",
       "3                      8.0                     22.5             147400.0   \n",
       "4                     13.0                     13.6             385836.0   \n",
       "\n",
       "   Number of Credit Problems  Months since last delinquent  Bankruptcies  \\\n",
       "0                        1.0                           NaN           1.0   \n",
       "1                        0.0                           NaN           0.0   \n",
       "2                        0.0                           NaN           0.0   \n",
       "3                        1.0                           NaN           1.0   \n",
       "4                        1.0                           NaN           0.0   \n",
       "\n",
       "              Purpose        Term  Current Loan Amount  \\\n",
       "0  debt consolidation  Short Term           99999999.0   \n",
       "1  debt consolidation   Long Term             264968.0   \n",
       "2  debt consolidation  Short Term           99999999.0   \n",
       "3  debt consolidation  Short Term             121396.0   \n",
       "4  debt consolidation  Short Term             125840.0   \n",
       "\n",
       "   Current Credit Balance  Monthly Debt  Credit Score  Credit Default  \n",
       "0                 47386.0        7914.0         749.0               0  \n",
       "1                394972.0       18373.0         737.0               1  \n",
       "2                308389.0       13651.0         742.0               0  \n",
       "3                 95855.0       11338.0         694.0               0  \n",
       "4                 93309.0        7180.0         719.0               0  "
      ]
     },
     "execution_count": 4,
     "metadata": {},
     "output_type": "execute_result"
    }
   ],
   "source": [
    "df_train = pd.read_csv(TRAIN_DATASET_PATH)\n",
    "df_train.head()"
   ]
  },
  {
   "cell_type": "code",
   "execution_count": 5,
   "metadata": {},
   "outputs": [
    {
     "data": {
      "text/plain": [
       "(7500, 17)"
      ]
     },
     "execution_count": 5,
     "metadata": {},
     "output_type": "execute_result"
    }
   ],
   "source": [
    "df_train.shape"
   ]
  },
  {
   "cell_type": "code",
   "execution_count": 7,
   "metadata": {},
   "outputs": [
    {
     "data": {
      "text/html": [
       "<div>\n",
       "<style scoped>\n",
       "    .dataframe tbody tr th:only-of-type {\n",
       "        vertical-align: middle;\n",
       "    }\n",
       "\n",
       "    .dataframe tbody tr th {\n",
       "        vertical-align: top;\n",
       "    }\n",
       "\n",
       "    .dataframe thead th {\n",
       "        text-align: right;\n",
       "    }\n",
       "</style>\n",
       "<table border=\"1\" class=\"dataframe\">\n",
       "  <thead>\n",
       "    <tr style=\"text-align: right;\">\n",
       "      <th></th>\n",
       "      <th>Home Ownership</th>\n",
       "      <th>Annual Income</th>\n",
       "      <th>Years in current job</th>\n",
       "      <th>Tax Liens</th>\n",
       "      <th>Number of Open Accounts</th>\n",
       "      <th>Years of Credit History</th>\n",
       "      <th>Maximum Open Credit</th>\n",
       "      <th>Number of Credit Problems</th>\n",
       "      <th>Months since last delinquent</th>\n",
       "      <th>Bankruptcies</th>\n",
       "      <th>Purpose</th>\n",
       "      <th>Term</th>\n",
       "      <th>Current Loan Amount</th>\n",
       "      <th>Current Credit Balance</th>\n",
       "      <th>Monthly Debt</th>\n",
       "      <th>Credit Score</th>\n",
       "    </tr>\n",
       "  </thead>\n",
       "  <tbody>\n",
       "    <tr>\n",
       "      <th>0</th>\n",
       "      <td>Rent</td>\n",
       "      <td>NaN</td>\n",
       "      <td>4 years</td>\n",
       "      <td>0.0</td>\n",
       "      <td>9.0</td>\n",
       "      <td>12.5</td>\n",
       "      <td>220968.0</td>\n",
       "      <td>0.0</td>\n",
       "      <td>70.0</td>\n",
       "      <td>0.0</td>\n",
       "      <td>debt consolidation</td>\n",
       "      <td>Short Term</td>\n",
       "      <td>162470.0</td>\n",
       "      <td>105906.0</td>\n",
       "      <td>6813.0</td>\n",
       "      <td>NaN</td>\n",
       "    </tr>\n",
       "    <tr>\n",
       "      <th>1</th>\n",
       "      <td>Rent</td>\n",
       "      <td>231838.0</td>\n",
       "      <td>1 year</td>\n",
       "      <td>0.0</td>\n",
       "      <td>6.0</td>\n",
       "      <td>32.7</td>\n",
       "      <td>55946.0</td>\n",
       "      <td>0.0</td>\n",
       "      <td>8.0</td>\n",
       "      <td>0.0</td>\n",
       "      <td>educational expenses</td>\n",
       "      <td>Short Term</td>\n",
       "      <td>78298.0</td>\n",
       "      <td>46037.0</td>\n",
       "      <td>2318.0</td>\n",
       "      <td>699.0</td>\n",
       "    </tr>\n",
       "    <tr>\n",
       "      <th>2</th>\n",
       "      <td>Home Mortgage</td>\n",
       "      <td>1152540.0</td>\n",
       "      <td>3 years</td>\n",
       "      <td>0.0</td>\n",
       "      <td>10.0</td>\n",
       "      <td>13.7</td>\n",
       "      <td>204600.0</td>\n",
       "      <td>0.0</td>\n",
       "      <td>NaN</td>\n",
       "      <td>0.0</td>\n",
       "      <td>debt consolidation</td>\n",
       "      <td>Short Term</td>\n",
       "      <td>200178.0</td>\n",
       "      <td>146490.0</td>\n",
       "      <td>18729.0</td>\n",
       "      <td>7260.0</td>\n",
       "    </tr>\n",
       "    <tr>\n",
       "      <th>3</th>\n",
       "      <td>Home Mortgage</td>\n",
       "      <td>1220313.0</td>\n",
       "      <td>10+ years</td>\n",
       "      <td>0.0</td>\n",
       "      <td>16.0</td>\n",
       "      <td>17.0</td>\n",
       "      <td>456302.0</td>\n",
       "      <td>0.0</td>\n",
       "      <td>70.0</td>\n",
       "      <td>0.0</td>\n",
       "      <td>debt consolidation</td>\n",
       "      <td>Short Term</td>\n",
       "      <td>217382.0</td>\n",
       "      <td>213199.0</td>\n",
       "      <td>27559.0</td>\n",
       "      <td>739.0</td>\n",
       "    </tr>\n",
       "    <tr>\n",
       "      <th>4</th>\n",
       "      <td>Home Mortgage</td>\n",
       "      <td>2340952.0</td>\n",
       "      <td>6 years</td>\n",
       "      <td>0.0</td>\n",
       "      <td>11.0</td>\n",
       "      <td>23.6</td>\n",
       "      <td>1207272.0</td>\n",
       "      <td>0.0</td>\n",
       "      <td>NaN</td>\n",
       "      <td>0.0</td>\n",
       "      <td>debt consolidation</td>\n",
       "      <td>Long Term</td>\n",
       "      <td>777634.0</td>\n",
       "      <td>425391.0</td>\n",
       "      <td>42605.0</td>\n",
       "      <td>706.0</td>\n",
       "    </tr>\n",
       "  </tbody>\n",
       "</table>\n",
       "</div>"
      ],
      "text/plain": [
       "  Home Ownership  Annual Income Years in current job  Tax Liens  \\\n",
       "0           Rent            NaN              4 years        0.0   \n",
       "1           Rent       231838.0               1 year        0.0   \n",
       "2  Home Mortgage      1152540.0              3 years        0.0   \n",
       "3  Home Mortgage      1220313.0            10+ years        0.0   \n",
       "4  Home Mortgage      2340952.0              6 years        0.0   \n",
       "\n",
       "   Number of Open Accounts  Years of Credit History  Maximum Open Credit  \\\n",
       "0                      9.0                     12.5             220968.0   \n",
       "1                      6.0                     32.7              55946.0   \n",
       "2                     10.0                     13.7             204600.0   \n",
       "3                     16.0                     17.0             456302.0   \n",
       "4                     11.0                     23.6            1207272.0   \n",
       "\n",
       "   Number of Credit Problems  Months since last delinquent  Bankruptcies  \\\n",
       "0                        0.0                          70.0           0.0   \n",
       "1                        0.0                           8.0           0.0   \n",
       "2                        0.0                           NaN           0.0   \n",
       "3                        0.0                          70.0           0.0   \n",
       "4                        0.0                           NaN           0.0   \n",
       "\n",
       "                Purpose        Term  Current Loan Amount  \\\n",
       "0    debt consolidation  Short Term             162470.0   \n",
       "1  educational expenses  Short Term              78298.0   \n",
       "2    debt consolidation  Short Term             200178.0   \n",
       "3    debt consolidation  Short Term             217382.0   \n",
       "4    debt consolidation   Long Term             777634.0   \n",
       "\n",
       "   Current Credit Balance  Monthly Debt  Credit Score  \n",
       "0                105906.0        6813.0           NaN  \n",
       "1                 46037.0        2318.0         699.0  \n",
       "2                146490.0       18729.0        7260.0  \n",
       "3                213199.0       27559.0         739.0  \n",
       "4                425391.0       42605.0         706.0  "
      ]
     },
     "execution_count": 7,
     "metadata": {},
     "output_type": "execute_result"
    }
   ],
   "source": [
    "df_test = pd.read_csv(TEST_DATASET_PATH)\n",
    "df_test.head()"
   ]
  },
  {
   "cell_type": "code",
   "execution_count": 8,
   "metadata": {},
   "outputs": [
    {
     "data": {
      "text/plain": [
       "(2500, 16)"
      ]
     },
     "execution_count": 8,
     "metadata": {},
     "output_type": "execute_result"
    }
   ],
   "source": [
    "df_test.shape"
   ]
  },
  {
   "cell_type": "markdown",
   "metadata": {},
   "source": [
    "### Оптимизация занимаемой памяти"
   ]
  },
  {
   "cell_type": "code",
   "execution_count": 9,
   "metadata": {},
   "outputs": [],
   "source": [
    "def optimizing_df(df):\n",
    "    for col in df.columns:\n",
    "        if df[col].dtypes.kind == 'i' or df[col].dtypes.kind == 'u':\n",
    "            if df[col].min() >= 0:\n",
    "                df[col] = pd.to_numeric(df[col], downcast='unsigned')\n",
    "            else:\n",
    "                df[col] = pd.to_numeric(df[col], downcast='integer')\n",
    "\n",
    "        elif df[col].dtypes.kind == 'f' or df[col].dtypes.kind == 'c':\n",
    "            df[col] = pd.to_numeric(df[col], downcast='float')\n",
    "\n",
    "        elif df[col].dtypes.kind == 'O':\n",
    "            num_unique_values = len(df[col].unique())\n",
    "            num_total_values = len(df[col])\n",
    "            if num_unique_values / num_total_values < 0.5:\n",
    "                df[col] = df[col].astype('category')\n",
    "\n",
    "    return df"
   ]
  },
  {
   "cell_type": "code",
   "execution_count": 10,
   "metadata": {},
   "outputs": [],
   "source": [
    "df_train = optimizing_df(df_train)\n",
    "df_test = optimizing_df(df_test)"
   ]
  },
  {
   "cell_type": "markdown",
   "metadata": {},
   "source": [
    "### Типы данных"
   ]
  },
  {
   "cell_type": "code",
   "execution_count": 11,
   "metadata": {},
   "outputs": [
    {
     "data": {
      "text/plain": [
       "Home Ownership                  category\n",
       "Annual Income                    float32\n",
       "Years in current job            category\n",
       "Tax Liens                        float32\n",
       "Number of Open Accounts          float32\n",
       "Years of Credit History          float32\n",
       "Maximum Open Credit              float32\n",
       "Number of Credit Problems        float32\n",
       "Months since last delinquent     float32\n",
       "Bankruptcies                     float32\n",
       "Purpose                         category\n",
       "Term                            category\n",
       "Current Loan Amount              float32\n",
       "Current Credit Balance           float32\n",
       "Monthly Debt                     float32\n",
       "Credit Score                     float32\n",
       "Credit Default                     uint8\n",
       "dtype: object"
      ]
     },
     "execution_count": 11,
     "metadata": {},
     "output_type": "execute_result"
    }
   ],
   "source": [
    "df_train.dtypes"
   ]
  },
  {
   "cell_type": "markdown",
   "metadata": {},
   "source": [
    "## Изучение и обработка признаков -  Feature Exploring  & Engineering"
   ]
  },
  {
   "cell_type": "markdown",
   "metadata": {},
   "source": [
    "#### Выделение признакового описания и целевой переменной"
   ]
  },
  {
   "cell_type": "code",
   "execution_count": 104,
   "metadata": {},
   "outputs": [],
   "source": [
    "TARGET_NAME = 'Credit Default'\n",
    "BASE_FEATURE_NAMES = ['Annual Income', 'Tax Liens', 'Number of Open Accounts', 'Years of Credit History', 'Maximum Open Credit',\n",
    "                    'Number of Credit Problems', 'Current Loan Amount', 'Bankruptcies', 'Months since last delinquent',\n",
    "                    'Current Credit Balance', 'Monthly Debt', 'Credit Score', 'Home Ownership', 'Years in current job', \n",
    "                    'Purpose', 'Term' ]\n",
    "\n",
    "NUM_FEATURE_NAMES = ['Annual Income', 'Tax Liens', 'Number of Open Accounts', 'Years of Credit History', 'Maximum Open Credit',\n",
    "                    'Number of Credit Problems', 'Current Loan Amount', 'Credit Score', 'Bankruptcies', 'Months since last delinquent', 'Current Credit Balance', 'Monthly Debt']\n",
    "\n",
    "CAT_FEATURE_NAMES = ['Home Ownership', 'Years in current job', 'Purpose', 'Term']"
   ]
  },
  {
   "cell_type": "markdown",
   "metadata": {},
   "source": [
    "### Целевая переменная - Credit Default"
   ]
  },
  {
   "cell_type": "code",
   "execution_count": 31,
   "metadata": {},
   "outputs": [
    {
     "data": {
      "image/png": "[encoded data removed]",
      "text/plain": [
       "<Figure size 576x288 with 1 Axes>"
      ]
     },
     "metadata": {
      "needs_background": "light"
     },
     "output_type": "display_data"
    }
   ],
   "source": [
    "plt.figure(figsize = (8,4))\n",
    "df_train['Credit Default'].hist()\n",
    "plt.show()"
   ]
  },
  {
   "cell_type": "code",
   "execution_count": 25,
   "metadata": {},
   "outputs": [
    {
     "data": {
      "text/plain": [
       "0    5387\n",
       "1    2113\n",
       "Name: Credit Default, dtype: int64"
      ]
     },
     "execution_count": 25,
     "metadata": {},
     "output_type": "execute_result"
    }
   ],
   "source": [
    "df_train['Credit Default'].value_counts()"
   ]
  },
  {
   "cell_type": "markdown",
   "metadata": {},
   "source": [
    "**Очевидна разбалансировка классов, которую необходимо будет выровнять**"
   ]
  },
  {
   "cell_type": "markdown",
   "metadata": {},
   "source": [
    "### Изучение  признаков"
   ]
  },
  {
   "cell_type": "code",
   "execution_count": 13,
   "metadata": {},
   "outputs": [
    {
     "data": {
      "image/png": "[encoded data removed]",
      "text/plain": [
       "<Figure size 1152x1152 with 12 Axes>"
      ]
     },
     "metadata": {
      "needs_background": "light"
     },
     "output_type": "display_data"
    }
   ],
   "source": [
    "# распределение признаков в тренировочном датасете\n",
    "df_train[NUM_FEATURE_NAMES].hist(figsize=(16,16))\n",
    "plt.subplots_adjust(wspace = 0.5, hspace = 0.5)\n",
    "plt.show()"
   ]
  },
  {
   "cell_type": "markdown",
   "metadata": {},
   "source": [
    "#### Изучим признаки подробнее"
   ]
  },
  {
   "cell_type": "code",
   "execution_count": 15,
   "metadata": {},
   "outputs": [
    {
     "name": "stdout",
     "output_type": "stream",
     "text": [
      "<class 'pandas.core.frame.DataFrame'>\n",
      "RangeIndex: 7500 entries, 0 to 7499\n",
      "Data columns (total 17 columns):\n",
      " #   Column                        Non-Null Count  Dtype   \n",
      "---  ------                        --------------  -----   \n",
      " 0   Home Ownership                7500 non-null   category\n",
      " 1   Annual Income                 5943 non-null   float32 \n",
      " 2   Years in current job          7129 non-null   category\n",
      " 3   Tax Liens                     7500 non-null   float32 \n",
      " 4   Number of Open Accounts       7500 non-null   float32 \n",
      " 5   Years of Credit History       7500 non-null   float32 \n",
      " 6   Maximum Open Credit           7500 non-null   float32 \n",
      " 7   Number of Credit Problems     7500 non-null   float32 \n",
      " 8   Months since last delinquent  3419 non-null   float32 \n",
      " 9   Bankruptcies                  7486 non-null   float32 \n",
      " 10  Purpose                       7500 non-null   category\n",
      " 11  Term                          7500 non-null   category\n",
      " 12  Current Loan Amount           7500 non-null   float32 \n",
      " 13  Current Credit Balance        7500 non-null   float32 \n",
      " 14  Monthly Debt                  7500 non-null   float32 \n",
      " 15  Credit Score                  5943 non-null   float32 \n",
      " 16  Credit Default                7500 non-null   uint8   \n",
      "dtypes: category(4), float32(12), uint8(1)\n",
      "memory usage: 389.7 KB\n"
     ]
    }
   ],
   "source": [
    "df_train.info()"
   ]
  },
  {
   "cell_type": "code",
   "execution_count": 16,
   "metadata": {},
   "outputs": [
    {
     "data": {
      "text/plain": [
       "Home Ownership                     0\n",
       "Annual Income                   1557\n",
       "Years in current job             371\n",
       "Tax Liens                          0\n",
       "Number of Open Accounts            0\n",
       "Years of Credit History            0\n",
       "Maximum Open Credit                0\n",
       "Number of Credit Problems          0\n",
       "Months since last delinquent    4081\n",
       "Bankruptcies                      14\n",
       "Purpose                            0\n",
       "Term                               0\n",
       "Current Loan Amount                0\n",
       "Current Credit Balance             0\n",
       "Monthly Debt                       0\n",
       "Credit Score                    1557\n",
       "Credit Default                     0\n",
       "dtype: int64"
      ]
     },
     "execution_count": 16,
     "metadata": {},
     "output_type": "execute_result"
    }
   ],
   "source": [
    "df_train.isnull().sum()"
   ]
  },
  {
   "cell_type": "markdown",
   "metadata": {},
   "source": [
    "Признаки, содержащие пропуски - **Annual Income, Months since last delinquent, Years in current job, Credit Score** . Наибольшее количество пропусков в признаке Months since last delinquent, необходимо его изучить внимательнее"
   ]
  },
  {
   "cell_type": "markdown",
   "metadata": {},
   "source": [
    "### Числовые признаки"
   ]
  },
  {
   "cell_type": "code",
   "execution_count": 114,
   "metadata": {},
   "outputs": [
    {
     "name": "stdout",
     "output_type": "stream",
     "text": [
      "0 : Annual Income\n",
      "\n",
      "1043651.0    4\n",
      "1161660.0    4\n",
      "1338113.0    4\n",
      "969475.0     4\n",
      "1058376.0    4\n",
      "            ..\n",
      "2185646.0    1\n",
      "2326075.0    1\n",
      "330429.0     1\n",
      "1704965.0    1\n",
      "648166.0     1\n",
      "Name: Annual Income, Length: 5478, dtype: int64\n",
      "----------------------------------------------------------------------------------------------------\n",
      "\n",
      "1 : Tax Liens\n",
      "\n",
      "0.0    7366\n",
      "1.0      83\n",
      "2.0      30\n",
      "3.0      10\n",
      "4.0       6\n",
      "6.0       2\n",
      "5.0       2\n",
      "7.0       1\n",
      "Name: Tax Liens, dtype: int64\n",
      "----------------------------------------------------------------------------------------------------\n",
      "\n",
      "2 : Number of Open Accounts\n",
      "\n",
      "9.0     728\n",
      "11.0    692\n",
      "10.0    677\n",
      "8.0     638\n",
      "7.0     613\n",
      "12.0    562\n",
      "6.0     504\n",
      "13.0    465\n",
      "14.0    420\n",
      "5.0     325\n",
      "15.0    313\n",
      "16.0    265\n",
      "17.0    232\n",
      "4.0     212\n",
      "18.0    143\n",
      "19.0    139\n",
      "3.0      95\n",
      "20.0     93\n",
      "21.0     78\n",
      "23.0     59\n",
      "24.0     50\n",
      "22.0     49\n",
      "25.0     32\n",
      "2.0      28\n",
      "28.0     14\n",
      "27.0     14\n",
      "26.0     12\n",
      "30.0     11\n",
      "29.0     10\n",
      "33.0      6\n",
      "31.0      6\n",
      "32.0      6\n",
      "34.0      2\n",
      "37.0      2\n",
      "42.0      1\n",
      "43.0      1\n",
      "35.0      1\n",
      "38.0      1\n",
      "41.0      1\n",
      "Name: Number of Open Accounts, dtype: int64\n",
      "----------------------------------------------------------------------------------------------------\n",
      "\n",
      "3 : Years of Credit History\n",
      "\n",
      "15.000000    104\n",
      "16.000000     99\n",
      "16.500000     91\n",
      "17.000000     86\n",
      "17.500000     83\n",
      "            ... \n",
      "44.000000      1\n",
      "42.299999      1\n",
      "36.700001      1\n",
      "49.099998      1\n",
      "44.799999      1\n",
      "Name: Years of Credit History, Length: 408, dtype: int64\n",
      "----------------------------------------------------------------------------------------------------\n",
      "\n",
      "4 : Maximum Open Credit\n",
      "\n",
      "0.0          65\n",
      "319110.0      5\n",
      "334796.0      3\n",
      "358732.0      3\n",
      "323312.0      3\n",
      "             ..\n",
      "235642.0      1\n",
      "1435456.0     1\n",
      "397078.0      1\n",
      "537680.0      1\n",
      "1516482.0     1\n",
      "Name: Maximum Open Credit, Length: 6963, dtype: int64\n",
      "----------------------------------------------------------------------------------------------------\n",
      "\n",
      "5 : Number of Credit Problems\n",
      "\n",
      "0.0    6469\n",
      "1.0     882\n",
      "2.0      93\n",
      "3.0      35\n",
      "4.0       9\n",
      "5.0       7\n",
      "6.0       4\n",
      "7.0       1\n",
      "Name: Number of Credit Problems, dtype: int64\n",
      "----------------------------------------------------------------------------------------------------\n",
      "\n",
      "6 : Current Loan Amount\n",
      "\n",
      "100000000.0    870\n",
      "89298.0          6\n",
      "218064.0         6\n",
      "216106.0         5\n",
      "265826.0         5\n",
      "              ... \n",
      "222860.0         1\n",
      "104324.0         1\n",
      "201080.0         1\n",
      "427812.0         1\n",
      "191136.0         1\n",
      "Name: Current Loan Amount, Length: 5386, dtype: int64\n",
      "----------------------------------------------------------------------------------------------------\n",
      "\n",
      "7 : Credit Score\n",
      "\n",
      "740.0     169\n",
      "747.0     168\n",
      "748.0     157\n",
      "745.0     152\n",
      "742.0     151\n",
      "         ... \n",
      "629.0       1\n",
      "606.0       1\n",
      "6830.0      1\n",
      "6670.0      1\n",
      "620.0       1\n",
      "Name: Credit Score, Length: 268, dtype: int64\n",
      "----------------------------------------------------------------------------------------------------\n",
      "\n",
      "8 : Bankruptcies\n",
      "\n",
      "0.0    6660\n",
      "1.0     786\n",
      "2.0      31\n",
      "3.0       7\n",
      "4.0       2\n",
      "Name: Bankruptcies, dtype: int64\n",
      "----------------------------------------------------------------------------------------------------\n",
      "\n",
      "9 : Months since last delinquent\n",
      "\n",
      "14.0     76\n",
      "29.0     71\n",
      "33.0     68\n",
      "8.0      68\n",
      "19.0     65\n",
      "         ..\n",
      "84.0      1\n",
      "86.0      1\n",
      "91.0      1\n",
      "118.0     1\n",
      "92.0      1\n",
      "Name: Months since last delinquent, Length: 89, dtype: int64\n",
      "----------------------------------------------------------------------------------------------------\n",
      "\n",
      "10 : Current Credit Balance\n",
      "\n",
      "0.0         53\n",
      "191710.0     5\n",
      "106818.0     4\n",
      "136401.0     4\n",
      "82289.0      4\n",
      "            ..\n",
      "64733.0      1\n",
      "66709.0      1\n",
      "42199.0      1\n",
      "871036.0     1\n",
      "346902.0     1\n",
      "Name: Current Credit Balance, Length: 6592, dtype: int64\n",
      "----------------------------------------------------------------------------------------------------\n",
      "\n",
      "11 : Monthly Debt\n",
      "\n",
      "0.0        6\n",
      "19667.0    4\n",
      "19222.0    4\n",
      "19277.0    3\n",
      "9669.0     3\n",
      "          ..\n",
      "12857.0    1\n",
      "10777.0    1\n",
      "29267.0    1\n",
      "25050.0    1\n",
      "31119.0    1\n",
      "Name: Monthly Debt, Length: 6716, dtype: int64\n",
      "----------------------------------------------------------------------------------------------------\n",
      "\n"
     ]
    }
   ],
   "source": [
    "for num, column in enumerate(df_train[NUM_FEATURE_NAMES]):\n",
    "    print(str(num) + ' : ' + str(column) + '\\n\\n' + str(df_train[column].value_counts()) + '\\n' + '-' * 100 + '\\n')"
   ]
  },
  {
   "cell_type": "code",
   "execution_count": 13,
   "metadata": {},
   "outputs": [
    {
     "data": {
      "image/png": "[encoded data removed]",
      "text/plain": [
       "<Figure size 1152x1152 with 12 Axes>"
      ]
     },
     "metadata": {
      "needs_background": "light"
     },
     "output_type": "display_data"
    }
   ],
   "source": [
    "# распределение признаков в тренировочном датасете\n",
    "df_train[NUM_FEATURE_NAMES].hist(figsize=(16,16))\n",
    "plt.subplots_adjust(wspace = 0.5, hspace = 0.5)\n",
    "plt.show()"
   ]
  },
  {
   "cell_type": "code",
   "execution_count": null,
   "metadata": {},
   "outputs": [],
   "source": []
  },
  {
   "cell_type": "markdown",
   "metadata": {},
   "source": [
    "#### Изучим отдельные признаки подробнее"
   ]
  },
  {
   "cell_type": "markdown",
   "metadata": {},
   "source": [
    "#### Annual Income - Годовой доход"
   ]
  },
  {
   "cell_type": "code",
   "execution_count": 4043,
   "metadata": {},
   "outputs": [
    {
     "data": {
      "text/plain": [
       "1557"
      ]
     },
     "execution_count": 4043,
     "metadata": {},
     "output_type": "execute_result"
    }
   ],
   "source": [
    "df_train['Annual Income'].isnull().sum()"
   ]
  },
  {
   "cell_type": "code",
   "execution_count": 4045,
   "metadata": {},
   "outputs": [
    {
     "data": {
      "image/png": "[encoded data removed]",
      "text/plain": [
       "<Figure size 432x288 with 1 Axes>"
      ]
     },
     "metadata": {
      "needs_background": "light"
     },
     "output_type": "display_data"
    }
   ],
   "source": [
    "fig, ax = plt.subplots(nrows = 1, ncols = 1)\n",
    "ax.hist(df_train['Annual Income'], bins = 30, color = 'purple', ec = 'white')\n",
    "\n",
    "plt.show()"
   ]
  },
  {
   "cell_type": "markdown",
   "metadata": {},
   "source": [
    "Доход - очень индивидуальный признак, повторяющихся значений очевидно мало, в данном случае все его значения можно допустить и не причислять к выбросам"
   ]
  },
  {
   "cell_type": "code",
   "execution_count": 32,
   "metadata": {},
   "outputs": [],
   "source": [
    "#Вариант 1. \n",
    "# Добавляем признак о неизвестном доходе и присваиваю всем наблюдениям 0\n",
    "#df_train['Unknown Income'] = 0\n",
    "# Всем, у кого неизвестна зарплата делаем пометку \"1\" в столбец unknown_income\n",
    "#df_train.loc[(df_train['Annual Income'].isnull()), 'Unknown Income'] = 1\n",
    "\n",
    "# Вариант 2\n",
    "\n",
    "#train_df[\"Annual Income\"] = train_df[\"Annual Income\"].fillna(train_df[\"Annual Income\"].median(), inplace = True)\n",
    "\n"
   ]
  },
  {
   "cell_type": "markdown",
   "metadata": {},
   "source": [
    "#### Current Loan Amount - Текущий кредитный баланс"
   ]
  },
  {
   "cell_type": "code",
   "execution_count": 54,
   "metadata": {},
   "outputs": [
    {
     "data": {
      "image/png": "[encoded data removed]",
      "text/plain": [
       "<Figure size 432x288 with 1 Axes>"
      ]
     },
     "metadata": {
      "needs_background": "light"
     },
     "output_type": "display_data"
    }
   ],
   "source": [
    "fig, ax = plt.subplots(nrows = 1, ncols = 1)\n",
    "ax.hist(df_train['Current Loan Amount'], bins = 30)\n",
    "plt.show()"
   ]
  },
  {
   "cell_type": "code",
   "execution_count": 34,
   "metadata": {},
   "outputs": [
    {
     "data": {
      "text/plain": [
       "100000000.0    870\n",
       "89298.0          6\n",
       "218064.0         6\n",
       "216106.0         5\n",
       "265826.0         5\n",
       "              ... \n",
       "222860.0         1\n",
       "104324.0         1\n",
       "201080.0         1\n",
       "427812.0         1\n",
       "191136.0         1\n",
       "Name: Current Loan Amount, Length: 5386, dtype: int64"
      ]
     },
     "execution_count": 34,
     "metadata": {},
     "output_type": "execute_result"
    }
   ],
   "source": [
    "df_train['Current Loan Amount'].value_counts()"
   ]
  },
  {
   "cell_type": "code",
   "execution_count": 4052,
   "metadata": {},
   "outputs": [
    {
     "data": {
      "text/plain": [
       "870"
      ]
     },
     "execution_count": 4052,
     "metadata": {},
     "output_type": "execute_result"
    }
   ],
   "source": [
    "df_train.loc[df_train['Current Loan Amount'] == 100000000, 'Current Loan Amount'].count()"
   ]
  },
  {
   "cell_type": "markdown",
   "metadata": {},
   "source": [
    "Значение 100000000.0 будем считать выбросом. Далее рассмотрим, как лучше всего его обработать\n",
    "\n",
    "Можно допустить, что это не выброс, а только взятые кредиты, но такое большое количество одинаковых значений выглядит странно. Рассмотрим разные варианты работы с этим признаком"
   ]
  },
  {
   "cell_type": "code",
   "execution_count": 4053,
   "metadata": {},
   "outputs": [],
   "source": [
    "# Заменим отличительно большие значения признака (выбросы), определенные выше, на среднее значение\n",
    "df_train.loc[df_train[\"Current Loan Amount\"] > 1000000, \"Current Loan Amount\"] = df_train.loc[df_train[\"Current Loan Amount\"] <= 1000000, \"Current Loan Amount\"].mean()"
   ]
  },
  {
   "cell_type": "markdown",
   "metadata": {},
   "source": [
    "#### Months since last delinquent - Количество месяцев с последней просрочки платежа"
   ]
  },
  {
   "cell_type": "code",
   "execution_count": 62,
   "metadata": {},
   "outputs": [
    {
     "data": {
      "text/plain": [
       "<AxesSubplot:>"
      ]
     },
     "execution_count": 62,
     "metadata": {},
     "output_type": "execute_result"
    },
    {
     "data": {
      "image/png": "[encoded data removed]",
      "text/plain": [
       "<Figure size 432x288 with 1 Axes>"
      ]
     },
     "metadata": {
      "needs_background": "light"
     },
     "output_type": "display_data"
    }
   ],
   "source": [
    "df_train['Months since last delinquent'].hist()"
   ]
  },
  {
   "cell_type": "code",
   "execution_count": 60,
   "metadata": {},
   "outputs": [
    {
     "data": {
      "text/plain": [
       "14.0     76\n",
       "29.0     71\n",
       "33.0     68\n",
       "8.0      68\n",
       "19.0     65\n",
       "         ..\n",
       "84.0      1\n",
       "86.0      1\n",
       "91.0      1\n",
       "118.0     1\n",
       "92.0      1\n",
       "Name: Months since last delinquent, Length: 89, dtype: int64"
      ]
     },
     "execution_count": 60,
     "metadata": {},
     "output_type": "execute_result"
    }
   ],
   "source": [
    "df_train['Months since last delinquent'].value_counts()"
   ]
  },
  {
   "cell_type": "code",
   "execution_count": 61,
   "metadata": {},
   "outputs": [
    {
     "data": {
      "text/plain": [
       "4081"
      ]
     },
     "execution_count": 61,
     "metadata": {},
     "output_type": "execute_result"
    }
   ],
   "source": [
    "df_train['Months since last delinquent'].isnull().sum()"
   ]
  },
  {
   "cell_type": "markdown",
   "metadata": {},
   "source": [
    "У признака Months since last delinquent очень низкая корреляция с целевой переменной, возможно имеет смысл его удалить и не использовать в построении итоговой модели"
   ]
  },
  {
   "cell_type": "code",
   "execution_count": 4038,
   "metadata": {},
   "outputs": [],
   "source": [
    "#df_train.drop(columns = 'Months since last delinquent', axis = 1, inplace = True) - удаление"
   ]
  },
  {
   "cell_type": "markdown",
   "metadata": {},
   "source": [
    "#### Credit Score"
   ]
  },
  {
   "cell_type": "markdown",
   "metadata": {},
   "source": [
    "Этот признак не описан среди заданных, допустим, что он предполагает некую характеристику клиента банка, расчитанную аналитиками на основе неких показателей. Поэтому отнесем его к категориальным"
   ]
  },
  {
   "cell_type": "code",
   "execution_count": 4054,
   "metadata": {
    "scrolled": true
   },
   "outputs": [
    {
     "data": {
      "text/plain": [
       "740.0     169\n",
       "747.0     168\n",
       "748.0     157\n",
       "745.0     152\n",
       "742.0     151\n",
       "         ... \n",
       "629.0       1\n",
       "606.0       1\n",
       "6830.0      1\n",
       "6670.0      1\n",
       "620.0       1\n",
       "Name: Credit Score, Length: 268, dtype: int64"
      ]
     },
     "execution_count": 4054,
     "metadata": {},
     "output_type": "execute_result"
    }
   ],
   "source": [
    "df_train['Credit Score'].value_counts()"
   ]
  },
  {
   "cell_type": "code",
   "execution_count": 90,
   "metadata": {},
   "outputs": [
    {
     "data": {
      "text/plain": [
       "268"
      ]
     },
     "execution_count": 90,
     "metadata": {},
     "output_type": "execute_result"
    }
   ],
   "source": [
    "df_train['Credit Score'].value_counts().count()"
   ]
  },
  {
   "cell_type": "code",
   "execution_count": 93,
   "metadata": {},
   "outputs": [
    {
     "data": {
      "text/plain": [
       "2213    7510.0\n",
       "3688    7510.0\n",
       "2408    7500.0\n",
       "355     7500.0\n",
       "1363    7490.0\n",
       "         ...  \n",
       "7482       NaN\n",
       "7492       NaN\n",
       "7494       NaN\n",
       "7498       NaN\n",
       "7499       NaN\n",
       "Name: Credit Score, Length: 7500, dtype: float32"
      ]
     },
     "execution_count": 93,
     "metadata": {},
     "output_type": "execute_result"
    }
   ],
   "source": [
    "df_train['Credit Score'].sort_values(ascending = False)"
   ]
  },
  {
   "cell_type": "code",
   "execution_count": 4056,
   "metadata": {},
   "outputs": [
    {
     "data": {
      "text/plain": [
       "1557"
      ]
     },
     "execution_count": 4056,
     "metadata": {},
     "output_type": "execute_result"
    }
   ],
   "source": [
    "df_train['Credit Score'].isnull().sum()"
   ]
  },
  {
   "cell_type": "markdown",
   "metadata": {},
   "source": [
    "Поскольку предполагаем, что этот признак - некая расчетная величина, определенная по некоторым признакам клиентов, количество ее значений вполне доступимо может быть большим."
   ]
  },
  {
   "cell_type": "code",
   "execution_count": 94,
   "metadata": {
    "scrolled": true
   },
   "outputs": [
    {
     "data": {
      "image/png": "[encoded data removed]",
      "text/plain": [
       "<Figure size 720x360 with 1 Axes>"
      ]
     },
     "metadata": {
      "needs_background": "light"
     },
     "output_type": "display_data"
    }
   ],
   "source": [
    "fig, ax = plt.subplots(nrows = 1, ncols = 1, figsize = (10,5))\n",
    "ax.hist(df_train['Credit Score'], bins = 100)\n",
    "plt.show()"
   ]
  },
  {
   "cell_type": "markdown",
   "metadata": {},
   "source": [
    "Виден просвет между значениями примерно 700 и 6000, после чего идет длинный \"хвост\" из явно небольшого количества наблюдений. Расчитаем сколько их и какое значение наибольшее до этого \"хвоста\""
   ]
  },
  {
   "cell_type": "code",
   "execution_count": 4058,
   "metadata": {},
   "outputs": [
    {
     "data": {
      "text/plain": [
       "751.0"
      ]
     },
     "execution_count": 4058,
     "metadata": {},
     "output_type": "execute_result"
    }
   ],
   "source": [
    "df_train.loc[df_train['Credit Score'] <=1000, 'Credit Score'].max()"
   ]
  },
  {
   "cell_type": "code",
   "execution_count": 95,
   "metadata": {},
   "outputs": [
    {
     "data": {
      "text/plain": [
       "585.0"
      ]
     },
     "execution_count": 95,
     "metadata": {},
     "output_type": "execute_result"
    }
   ],
   "source": [
    "df_train['Credit Score'].min()"
   ]
  },
  {
   "cell_type": "code",
   "execution_count": 4060,
   "metadata": {},
   "outputs": [
    {
     "data": {
      "text/plain": [
       "400"
      ]
     },
     "execution_count": 4060,
     "metadata": {},
     "output_type": "execute_result"
    }
   ],
   "source": [
    "df_train.loc[df_train['Credit Score'] >= 1000, 'Credit Score'].count()"
   ]
  },
  {
   "cell_type": "code",
   "execution_count": 4062,
   "metadata": {},
   "outputs": [
    {
     "data": {
      "text/plain": [
       "1557"
      ]
     },
     "execution_count": 4062,
     "metadata": {},
     "output_type": "execute_result"
    }
   ],
   "source": [
    "df_train['Credit Score'].isnull().sum()"
   ]
  },
  {
   "cell_type": "markdown",
   "metadata": {},
   "source": [
    "Значений \"хвоста\" немного, примем их за выбросы и уберем их. Оставшиеся значения распределены в промежутке между 585 и 751 (относительно генеральной совокупность этот интервал маленький) -> вполне допустимо заполнить пропуски средним или медианой. \n",
    "\n",
    "* попробуем разные варианты, но пока я рассматриваю медиану"
   ]
  },
  {
   "cell_type": "code",
   "execution_count": 96,
   "metadata": {},
   "outputs": [],
   "source": [
    "#train_df[\"Annual Income\"] = train_df[\"Annual Income\"].fillna(train_df[\"Annual Income\"].median(), inplace = True)"
   ]
  },
  {
   "cell_type": "code",
   "execution_count": 98,
   "metadata": {
    "scrolled": true
   },
   "outputs": [
    {
     "data": {
      "text/plain": [
       "1557"
      ]
     },
     "execution_count": 98,
     "metadata": {},
     "output_type": "execute_result"
    }
   ],
   "source": [
    "df_train['Credit Score'].isnull().sum() #должен быть 0 после заполнения пропусков"
   ]
  },
  {
   "cell_type": "markdown",
   "metadata": {},
   "source": [
    "#### Months since last delinquent - Количество месяцев с последней просрочки платежа\n",
    "\n",
    "Самое большое количество пропусков - более 50%!"
   ]
  },
  {
   "cell_type": "code",
   "execution_count": 117,
   "metadata": {},
   "outputs": [
    {
     "data": {
      "text/plain": [
       "4081"
      ]
     },
     "execution_count": 117,
     "metadata": {},
     "output_type": "execute_result"
    }
   ],
   "source": [
    "df_train['Months since last delinquent'].isnull().sum()"
   ]
  },
  {
   "cell_type": "markdown",
   "metadata": {},
   "source": [
    "В соответствии с матрицей корреляций линейной связи с целевой переменной практически нет. Учитывая более половины пропущенных значений и большому количеству признаков датасета (включая предполагаемые дамми), имеет смысл попробовать исключить этот признак."
   ]
  },
  {
   "cell_type": "markdown",
   "metadata": {},
   "source": [
    "### Матрица корреляций"
   ]
  },
  {
   "cell_type": "code",
   "execution_count": 4035,
   "metadata": {},
   "outputs": [
    {
     "data": {
      "text/plain": [
       "<AxesSubplot:>"
      ]
     },
     "execution_count": 4035,
     "metadata": {},
     "output_type": "execute_result"
    },
    {
     "data": {
      "image/png": "[encoded data removed]",
      "text/plain": [
       "<Figure size 1008x720 with 2 Axes>"
      ]
     },
     "metadata": {
      "needs_background": "light"
     },
     "output_type": "display_data"
    }
   ],
   "source": [
    "corr_matrix = df_train.corr()\n",
    "corr_matrix = np.round(corr_matrix,2)\n",
    "plt.figure(figsize = (14,10))\n",
    "sns.heatmap(corr_matrix, annot=True, linewidth = 2, cmap = 'coolwarm')"
   ]
  },
  {
   "cell_type": "code",
   "execution_count": 115,
   "metadata": {
    "scrolled": false
   },
   "outputs": [
    {
     "data": {
      "image/png": "[encoded data removed]",
      "text/plain": [
       "<Figure size 720x432 with 1 Axes>"
      ]
     },
     "metadata": {
      "needs_background": "light"
     },
     "output_type": "display_data"
    }
   ],
   "source": [
    "corr_matrix = df_train.corrwith(df_train['Credit Default'])\n",
    "corr_matrix = df_train.loc[:, df_train.columns != 'Credit Default'].corrwith(df_train['Credit Default']).abs().sort_values(ascending=False)\n",
    "plt.figure(figsize = (10, 6))\n",
    "plt.bar(corr_matrix.index, corr_matrix.values, color = 'orange')\n",
    "plt.title('Correlation to target')\n",
    "plt.xticks(rotation='vertical')\n",
    "plt.show()"
   ]
  },
  {
   "cell_type": "markdown",
   "metadata": {},
   "source": [
    "### Категориальные признаки"
   ]
  },
  {
   "cell_type": "markdown",
   "metadata": {},
   "source": [
    "#### Years in Current Job"
   ]
  },
  {
   "cell_type": "code",
   "execution_count": 67,
   "metadata": {},
   "outputs": [],
   "source": [
    "years_job = df_train['Years in current job'].value_counts()"
   ]
  },
  {
   "cell_type": "code",
   "execution_count": 77,
   "metadata": {},
   "outputs": [
    {
     "data": {
      "image/png": "[encoded data removed]",
      "text/plain": [
       "<Figure size 720x360 with 1 Axes>"
      ]
     },
     "metadata": {
      "needs_background": "light"
     },
     "output_type": "display_data"
    }
   ],
   "source": [
    "plt.figure(figsize = (10,5))\n",
    "sns.barplot(years_job.index, years_job.values)\n",
    "plt.show()"
   ]
  },
  {
   "cell_type": "markdown",
   "metadata": {},
   "source": [
    "Примечательно, что с увеличением количества лет на работе до 9, сокращается количество людей, работающих на одной и той же работе, однако работающих 10 лет и более - подавляющее большинство!"
   ]
  },
  {
   "cell_type": "markdown",
   "metadata": {},
   "source": [
    "#### Purpose - цель кредита"
   ]
  },
  {
   "cell_type": "code",
   "execution_count": 80,
   "metadata": {},
   "outputs": [],
   "source": [
    "purpose_values = df_train['Purpose'].value_counts()"
   ]
  },
  {
   "cell_type": "code",
   "execution_count": 85,
   "metadata": {},
   "outputs": [
    {
     "data": {
      "text/plain": [
       "<AxesSubplot:>"
      ]
     },
     "execution_count": 85,
     "metadata": {},
     "output_type": "execute_result"
    },
    {
     "data": {
      "image/png": "[encoded data removed]",
      "text/plain": [
       "<Figure size 1008x504 with 1 Axes>"
      ]
     },
     "metadata": {
      "needs_background": "light"
     },
     "output_type": "display_data"
    }
   ],
   "source": [
    "plt.figure(figsize = (14,7))\n",
    "sns.barplot(purpose_values.values, purpose_values.index)"
   ]
  },
  {
   "cell_type": "code",
   "execution_count": 89,
   "metadata": {},
   "outputs": [
    {
     "data": {
      "text/plain": [
       "5944"
      ]
     },
     "execution_count": 89,
     "metadata": {},
     "output_type": "execute_result"
    }
   ],
   "source": [
    "df_train.loc[df_train['Purpose'] == 'debt consolidation', 'Purpose'].count()"
   ]
  },
  {
   "cell_type": "markdown",
   "metadata": {},
   "source": [
    "Очевидно существенное преобладание значения \"debt consolidation\", значения остальных признаков сильно малы в общем объеме значений.\n",
    "Можно будет рассмотреть вариант объединения всех остальных признаков в один и закодировать дамми или 0 - \"debt consolidation\" и 1 - все остальные\n",
    "Или же можно перевести все в дамми , искуственно увеличивая число признаков, описывающих объекты. \n",
    "Буду проверять разные гипотезы при построении модели и получении ее результатов\n"
   ]
  },
  {
   "cell_type": "code",
   "execution_count": 103,
   "metadata": {},
   "outputs": [],
   "source": [
    "#Вариант 1\n",
    "#df_train.loc[df_train['Purpose'] == 'debt consolidation', 'Purpose'] = 1\n",
    "#df_train.loc[df_train['Purpose'] != 'debt consolidation', 'Purpose'] = 0\n",
    "\n",
    "#Вариант2\n",
    "#Перевод всех категорий признака в дамми \n"
   ]
  },
  {
   "cell_type": "markdown",
   "metadata": {},
   "source": [
    "#### Bankruptcies   - банкротства         "
   ]
  },
  {
   "cell_type": "code",
   "execution_count": 57,
   "metadata": {
    "scrolled": true
   },
   "outputs": [
    {
     "data": {
      "text/plain": [
       "0.0    6660\n",
       "1.0     786\n",
       "2.0      31\n",
       "3.0       7\n",
       "4.0       2\n",
       "Name: Bankruptcies, dtype: int64"
      ]
     },
     "execution_count": 57,
     "metadata": {},
     "output_type": "execute_result"
    }
   ],
   "source": [
    "df_train['Bankruptcies'].value_counts()"
   ]
  },
  {
   "cell_type": "markdown",
   "metadata": {},
   "source": [
    "Видимо, значение признака предполагает количество банкротств юр. лиц , зарегистрированных на клиента. Т.к. обычно бОльшая часть население не имеет зарегистрированных на себя фирм, то значение 0 преобладает. Однако есть клиенты, кто видимо неоднократно пытался начать свой бизнес и терпел неудачу, количество таких лиц стремительно сокращается. Допускаю, что значения признака адекватны в данном случае."
   ]
  },
  {
   "cell_type": "markdown",
   "metadata": {},
   "source": [
    "#### Home Ownership   - домовладение         "
   ]
  },
  {
   "cell_type": "code",
   "execution_count": 123,
   "metadata": {},
   "outputs": [
    {
     "data": {
      "text/plain": [
       "Home Mortgage    3637\n",
       "Rent             3204\n",
       "Own Home          647\n",
       "Have Mortgage      12\n",
       "Name: Home Ownership, dtype: int64"
      ]
     },
     "execution_count": 123,
     "metadata": {},
     "output_type": "execute_result"
    }
   ],
   "source": [
    "df_train['Home Ownership'].value_counts()"
   ]
  },
  {
   "cell_type": "markdown",
   "metadata": {},
   "source": [
    "Предположим, что Have Mortgage - выброс, возникший в результате опечатки и заменим 12 значений на Home Mortgage"
   ]
  },
  {
   "cell_type": "code",
   "execution_count": 124,
   "metadata": {},
   "outputs": [],
   "source": [
    "df_train.loc[df_train['Home Ownership'] == 'Have Mortgage', \"Home Ownership\"] = 'Home Mortgage'"
   ]
  },
  {
   "cell_type": "markdown",
   "metadata": {},
   "source": [
    "### Категориальные признаки переводим в dummies"
   ]
  },
  {
   "cell_type": "code",
   "execution_count": 4079,
   "metadata": {},
   "outputs": [
    {
     "data": {
      "text/plain": [
       "Index(['Home Ownership', 'Purpose', 'Term'], dtype='object')"
      ]
     },
     "execution_count": 4079,
     "metadata": {},
     "output_type": "execute_result"
    }
   ],
   "source": [
    "df_train.select_dtypes(include='category').columns"
   ]
  },
  {
   "cell_type": "markdown",
   "metadata": {},
   "source": [
    "Исходя из смысла признаков, можно сделать вывод, что кодировать порядковыми номерами и закодировать бинарно (0,1) нецелесообразно"
   ]
  },
  {
   "cell_type": "markdown",
   "metadata": {},
   "source": [
    "Переводим категориальные признаки в дамми"
   ]
  },
  {
   "cell_type": "code",
   "execution_count": 4081,
   "metadata": {},
   "outputs": [],
   "source": [
    "for cat_colname in CAT_FEATURE_NAMES:\n",
    "    df_train = pd.concat([df_train, pd.get_dummies(df_train[cat_colname])], axis=1)"
   ]
  },
  {
   "cell_type": "code",
   "execution_count": 4082,
   "metadata": {},
   "outputs": [
    {
     "data": {
      "text/html": [
       "<div>\n",
       "<style scoped>\n",
       "    .dataframe tbody tr th:only-of-type {\n",
       "        vertical-align: middle;\n",
       "    }\n",
       "\n",
       "    .dataframe tbody tr th {\n",
       "        vertical-align: top;\n",
       "    }\n",
       "\n",
       "    .dataframe thead th {\n",
       "        text-align: right;\n",
       "    }\n",
       "</style>\n",
       "<table border=\"1\" class=\"dataframe\">\n",
       "  <thead>\n",
       "    <tr style=\"text-align: right;\">\n",
       "      <th></th>\n",
       "      <th>Home Ownership</th>\n",
       "      <th>Annual Income</th>\n",
       "      <th>Tax Liens</th>\n",
       "      <th>Number of Open Accounts</th>\n",
       "      <th>Years of Credit History</th>\n",
       "      <th>Maximum Open Credit</th>\n",
       "      <th>Number of Credit Problems</th>\n",
       "      <th>Purpose</th>\n",
       "      <th>Term</th>\n",
       "      <th>Current Loan Amount</th>\n",
       "      <th>...</th>\n",
       "      <th>home improvements</th>\n",
       "      <th>major purchase</th>\n",
       "      <th>medical bills</th>\n",
       "      <th>moving</th>\n",
       "      <th>other</th>\n",
       "      <th>renewable energy</th>\n",
       "      <th>small business</th>\n",
       "      <th>take a trip</th>\n",
       "      <th>vacation</th>\n",
       "      <th>wedding</th>\n",
       "    </tr>\n",
       "  </thead>\n",
       "  <tbody>\n",
       "    <tr>\n",
       "      <th>0</th>\n",
       "      <td>Own Home</td>\n",
       "      <td>482087.0</td>\n",
       "      <td>0.0</td>\n",
       "      <td>11.0</td>\n",
       "      <td>26.299999</td>\n",
       "      <td>685960.0</td>\n",
       "      <td>1.0</td>\n",
       "      <td>debt consolidation</td>\n",
       "      <td>Short Term</td>\n",
       "      <td>309024.40625</td>\n",
       "      <td>...</td>\n",
       "      <td>0</td>\n",
       "      <td>0</td>\n",
       "      <td>0</td>\n",
       "      <td>0</td>\n",
       "      <td>0</td>\n",
       "      <td>0</td>\n",
       "      <td>0</td>\n",
       "      <td>0</td>\n",
       "      <td>0</td>\n",
       "      <td>0</td>\n",
       "    </tr>\n",
       "    <tr>\n",
       "      <th>1</th>\n",
       "      <td>Own Home</td>\n",
       "      <td>1025487.0</td>\n",
       "      <td>0.0</td>\n",
       "      <td>15.0</td>\n",
       "      <td>15.300000</td>\n",
       "      <td>1181730.0</td>\n",
       "      <td>0.0</td>\n",
       "      <td>debt consolidation</td>\n",
       "      <td>Long Term</td>\n",
       "      <td>264968.00000</td>\n",
       "      <td>...</td>\n",
       "      <td>0</td>\n",
       "      <td>0</td>\n",
       "      <td>0</td>\n",
       "      <td>0</td>\n",
       "      <td>0</td>\n",
       "      <td>0</td>\n",
       "      <td>0</td>\n",
       "      <td>0</td>\n",
       "      <td>0</td>\n",
       "      <td>0</td>\n",
       "    </tr>\n",
       "    <tr>\n",
       "      <th>2</th>\n",
       "      <td>Home Mortgage</td>\n",
       "      <td>751412.0</td>\n",
       "      <td>0.0</td>\n",
       "      <td>11.0</td>\n",
       "      <td>35.000000</td>\n",
       "      <td>1182434.0</td>\n",
       "      <td>0.0</td>\n",
       "      <td>debt consolidation</td>\n",
       "      <td>Short Term</td>\n",
       "      <td>309024.40625</td>\n",
       "      <td>...</td>\n",
       "      <td>0</td>\n",
       "      <td>0</td>\n",
       "      <td>0</td>\n",
       "      <td>0</td>\n",
       "      <td>0</td>\n",
       "      <td>0</td>\n",
       "      <td>0</td>\n",
       "      <td>0</td>\n",
       "      <td>0</td>\n",
       "      <td>0</td>\n",
       "    </tr>\n",
       "    <tr>\n",
       "      <th>3</th>\n",
       "      <td>Own Home</td>\n",
       "      <td>805068.0</td>\n",
       "      <td>0.0</td>\n",
       "      <td>8.0</td>\n",
       "      <td>22.500000</td>\n",
       "      <td>147400.0</td>\n",
       "      <td>1.0</td>\n",
       "      <td>debt consolidation</td>\n",
       "      <td>Short Term</td>\n",
       "      <td>121396.00000</td>\n",
       "      <td>...</td>\n",
       "      <td>0</td>\n",
       "      <td>0</td>\n",
       "      <td>0</td>\n",
       "      <td>0</td>\n",
       "      <td>0</td>\n",
       "      <td>0</td>\n",
       "      <td>0</td>\n",
       "      <td>0</td>\n",
       "      <td>0</td>\n",
       "      <td>0</td>\n",
       "    </tr>\n",
       "    <tr>\n",
       "      <th>4</th>\n",
       "      <td>Rent</td>\n",
       "      <td>776264.0</td>\n",
       "      <td>0.0</td>\n",
       "      <td>13.0</td>\n",
       "      <td>13.600000</td>\n",
       "      <td>385836.0</td>\n",
       "      <td>1.0</td>\n",
       "      <td>debt consolidation</td>\n",
       "      <td>Short Term</td>\n",
       "      <td>125840.00000</td>\n",
       "      <td>...</td>\n",
       "      <td>0</td>\n",
       "      <td>0</td>\n",
       "      <td>0</td>\n",
       "      <td>0</td>\n",
       "      <td>0</td>\n",
       "      <td>0</td>\n",
       "      <td>0</td>\n",
       "      <td>0</td>\n",
       "      <td>0</td>\n",
       "      <td>0</td>\n",
       "    </tr>\n",
       "  </tbody>\n",
       "</table>\n",
       "<p>5 rows × 35 columns</p>\n",
       "</div>"
      ],
      "text/plain": [
       "  Home Ownership  Annual Income  Tax Liens  Number of Open Accounts  \\\n",
       "0       Own Home       482087.0        0.0                     11.0   \n",
       "1       Own Home      1025487.0        0.0                     15.0   \n",
       "2  Home Mortgage       751412.0        0.0                     11.0   \n",
       "3       Own Home       805068.0        0.0                      8.0   \n",
       "4           Rent       776264.0        0.0                     13.0   \n",
       "\n",
       "   Years of Credit History  Maximum Open Credit  Number of Credit Problems  \\\n",
       "0                26.299999             685960.0                        1.0   \n",
       "1                15.300000            1181730.0                        0.0   \n",
       "2                35.000000            1182434.0                        0.0   \n",
       "3                22.500000             147400.0                        1.0   \n",
       "4                13.600000             385836.0                        1.0   \n",
       "\n",
       "              Purpose        Term  Current Loan Amount  ...  \\\n",
       "0  debt consolidation  Short Term         309024.40625  ...   \n",
       "1  debt consolidation   Long Term         264968.00000  ...   \n",
       "2  debt consolidation  Short Term         309024.40625  ...   \n",
       "3  debt consolidation  Short Term         121396.00000  ...   \n",
       "4  debt consolidation  Short Term         125840.00000  ...   \n",
       "\n",
       "   home improvements  major purchase  medical bills  moving  other  \\\n",
       "0                  0               0              0       0      0   \n",
       "1                  0               0              0       0      0   \n",
       "2                  0               0              0       0      0   \n",
       "3                  0               0              0       0      0   \n",
       "4                  0               0              0       0      0   \n",
       "\n",
       "   renewable energy  small business  take a trip  vacation  wedding  \n",
       "0                 0               0            0         0        0  \n",
       "1                 0               0            0         0        0  \n",
       "2                 0               0            0         0        0  \n",
       "3                 0               0            0         0        0  \n",
       "4                 0               0            0         0        0  \n",
       "\n",
       "[5 rows x 35 columns]"
      ]
     },
     "execution_count": 4082,
     "metadata": {},
     "output_type": "execute_result"
    }
   ],
   "source": [
    "df_train.head()"
   ]
  },
  {
   "cell_type": "code",
   "execution_count": 4083,
   "metadata": {},
   "outputs": [
    {
     "name": "stdout",
     "output_type": "stream",
     "text": [
      "<class 'pandas.core.frame.DataFrame'>\n",
      "RangeIndex: 7500 entries, 0 to 7499\n",
      "Data columns (total 35 columns):\n",
      " #   Column                     Non-Null Count  Dtype   \n",
      "---  ------                     --------------  -----   \n",
      " 0   Home Ownership             7500 non-null   category\n",
      " 1   Annual Income              7500 non-null   float32 \n",
      " 2   Tax Liens                  7500 non-null   float32 \n",
      " 3   Number of Open Accounts    7500 non-null   float32 \n",
      " 4   Years of Credit History    7500 non-null   float32 \n",
      " 5   Maximum Open Credit        7500 non-null   float32 \n",
      " 6   Number of Credit Problems  7500 non-null   float32 \n",
      " 7   Purpose                    7500 non-null   category\n",
      " 8   Term                       7500 non-null   category\n",
      " 9   Current Loan Amount        7500 non-null   float32 \n",
      " 10  Current Credit Balance     7500 non-null   float32 \n",
      " 11  Monthly Debt               7500 non-null   float32 \n",
      " 12  Credit Score               7500 non-null   float32 \n",
      " 13  Credit Default             7500 non-null   uint8   \n",
      " 14  Have Mortgage              7500 non-null   uint8   \n",
      " 15  Home Mortgage              7500 non-null   uint8   \n",
      " 16  Own Home                   7500 non-null   uint8   \n",
      " 17  Rent                       7500 non-null   uint8   \n",
      " 18  Long Term                  7500 non-null   uint8   \n",
      " 19  Short Term                 7500 non-null   uint8   \n",
      " 20  business loan              7500 non-null   uint8   \n",
      " 21  buy a car                  7500 non-null   uint8   \n",
      " 22  buy house                  7500 non-null   uint8   \n",
      " 23  debt consolidation         7500 non-null   uint8   \n",
      " 24  educational expenses       7500 non-null   uint8   \n",
      " 25  home improvements          7500 non-null   uint8   \n",
      " 26  major purchase             7500 non-null   uint8   \n",
      " 27  medical bills              7500 non-null   uint8   \n",
      " 28  moving                     7500 non-null   uint8   \n",
      " 29  other                      7500 non-null   uint8   \n",
      " 30  renewable energy           7500 non-null   uint8   \n",
      " 31  small business             7500 non-null   uint8   \n",
      " 32  take a trip                7500 non-null   uint8   \n",
      " 33  vacation                   7500 non-null   uint8   \n",
      " 34  wedding                    7500 non-null   uint8   \n",
      "dtypes: category(3), float32(10), uint8(22)\n",
      "memory usage: 477.2 KB\n"
     ]
    }
   ],
   "source": [
    "df_train.info()"
   ]
  },
  {
   "cell_type": "code",
   "execution_count": 4084,
   "metadata": {
    "scrolled": true
   },
   "outputs": [
    {
     "data": {
      "text/plain": [
       "Index(['Home Ownership', 'Annual Income', 'Tax Liens',\n",
       "       'Number of Open Accounts', 'Years of Credit History',\n",
       "       'Maximum Open Credit', 'Number of Credit Problems', 'Purpose', 'Term',\n",
       "       'Current Loan Amount', 'Current Credit Balance', 'Monthly Debt',\n",
       "       'Credit Score', 'Credit Default', 'Have Mortgage', 'Home Mortgage',\n",
       "       'Own Home', 'Rent', 'Long Term', 'Short Term', 'business loan',\n",
       "       'buy a car', 'buy house', 'debt consolidation', 'educational expenses',\n",
       "       'home improvements', 'major purchase', 'medical bills', 'moving',\n",
       "       'other', 'renewable energy', 'small business', 'take a trip',\n",
       "       'vacation', 'wedding'],\n",
       "      dtype='object')"
      ]
     },
     "execution_count": 4084,
     "metadata": {},
     "output_type": "execute_result"
    }
   ],
   "source": [
    "df_train.columns"
   ]
  },
  {
   "cell_type": "markdown",
   "metadata": {},
   "source": [
    "#### Переопределим признаки\n",
    "\n",
    "#требует корректировки исходя из тех признаков, которые оставим для построения модели"
   ]
  },
  {
   "cell_type": "code",
   "execution_count": 4078,
   "metadata": {},
   "outputs": [],
   "source": [
    "BASE_FEATURE_NAMES = ['Annual Income', 'Tax Liens', 'Number of Open Accounts', 'Years of Credit History', 'Maximum Open Credit',\n",
    "                    'Number of Credit Problems', 'Current Loan Amount', 'Current Credit Balance', 'Monthly Debt', 'Credit Score', 'Home Ownership',\n",
    "                    'Term', 'Purpose']\n",
    "\n",
    "NUM_FEATURE_NAMES = ['Annual Income', 'Tax Liens', 'Number of Open Accounts', 'Years of Credit History', 'Maximum Open Credit',\n",
    "                    'Number of Credit Problems', 'Current Loan Amount', 'Current Credit Balance', 'Monthly Debt', 'Credit Score']\n",
    "\n",
    "CAT_FEATURE_NAMES = ['Home Ownership', 'Term', 'Purpose']"
   ]
  },
  {
   "cell_type": "markdown",
   "metadata": {},
   "source": [
    "### Нормализация данных\n"
   ]
  },
  {
   "cell_type": "code",
   "execution_count": 4085,
   "metadata": {},
   "outputs": [],
   "source": [
    "scaler = StandardScaler()\n",
    "\n",
    "df_norm = df_train.copy()\n",
    "df_norm[NUM_FEATURE_NAMES] = scaler.fit_transform(df_norm[NUM_FEATURE_NAMES])\n",
    "\n",
    "df_train = df_norm.copy()"
   ]
  },
  {
   "cell_type": "code",
   "execution_count": 4086,
   "metadata": {},
   "outputs": [
    {
     "data": {
      "text/html": [
       "<div>\n",
       "<style scoped>\n",
       "    .dataframe tbody tr th:only-of-type {\n",
       "        vertical-align: middle;\n",
       "    }\n",
       "\n",
       "    .dataframe tbody tr th {\n",
       "        vertical-align: top;\n",
       "    }\n",
       "\n",
       "    .dataframe thead th {\n",
       "        text-align: right;\n",
       "    }\n",
       "</style>\n",
       "<table border=\"1\" class=\"dataframe\">\n",
       "  <thead>\n",
       "    <tr style=\"text-align: right;\">\n",
       "      <th></th>\n",
       "      <th>Home Ownership</th>\n",
       "      <th>Annual Income</th>\n",
       "      <th>Tax Liens</th>\n",
       "      <th>Number of Open Accounts</th>\n",
       "      <th>Years of Credit History</th>\n",
       "      <th>Maximum Open Credit</th>\n",
       "      <th>Number of Credit Problems</th>\n",
       "      <th>Purpose</th>\n",
       "      <th>Term</th>\n",
       "      <th>Current Loan Amount</th>\n",
       "      <th>...</th>\n",
       "      <th>home improvements</th>\n",
       "      <th>major purchase</th>\n",
       "      <th>medical bills</th>\n",
       "      <th>moving</th>\n",
       "      <th>other</th>\n",
       "      <th>renewable energy</th>\n",
       "      <th>small business</th>\n",
       "      <th>take a trip</th>\n",
       "      <th>vacation</th>\n",
       "      <th>wedding</th>\n",
       "    </tr>\n",
       "  </thead>\n",
       "  <tbody>\n",
       "    <tr>\n",
       "      <th>0</th>\n",
       "      <td>Own Home</td>\n",
       "      <td>-1.114304</td>\n",
       "      <td>-0.110953</td>\n",
       "      <td>-0.026674</td>\n",
       "      <td>1.133645</td>\n",
       "      <td>-0.016174</td>\n",
       "      <td>1.664779</td>\n",
       "      <td>debt consolidation</td>\n",
       "      <td>Short Term</td>\n",
       "      <td>8.202912e-08</td>\n",
       "      <td>...</td>\n",
       "      <td>0</td>\n",
       "      <td>0</td>\n",
       "      <td>0</td>\n",
       "      <td>0</td>\n",
       "      <td>0</td>\n",
       "      <td>0</td>\n",
       "      <td>0</td>\n",
       "      <td>0</td>\n",
       "      <td>0</td>\n",
       "      <td>0</td>\n",
       "    </tr>\n",
       "    <tr>\n",
       "      <th>1</th>\n",
       "      <td>Own Home</td>\n",
       "      <td>-0.396190</td>\n",
       "      <td>-0.110953</td>\n",
       "      <td>0.788223</td>\n",
       "      <td>-0.428528</td>\n",
       "      <td>0.014763</td>\n",
       "      <td>-0.340979</td>\n",
       "      <td>debt consolidation</td>\n",
       "      <td>Long Term</td>\n",
       "      <td>-2.570651e-01</td>\n",
       "      <td>...</td>\n",
       "      <td>0</td>\n",
       "      <td>0</td>\n",
       "      <td>0</td>\n",
       "      <td>0</td>\n",
       "      <td>0</td>\n",
       "      <td>0</td>\n",
       "      <td>0</td>\n",
       "      <td>0</td>\n",
       "      <td>0</td>\n",
       "      <td>0</td>\n",
       "    </tr>\n",
       "    <tr>\n",
       "      <th>2</th>\n",
       "      <td>Home Mortgage</td>\n",
       "      <td>-0.758385</td>\n",
       "      <td>-0.110953</td>\n",
       "      <td>-0.026674</td>\n",
       "      <td>2.369181</td>\n",
       "      <td>0.014807</td>\n",
       "      <td>-0.340979</td>\n",
       "      <td>debt consolidation</td>\n",
       "      <td>Short Term</td>\n",
       "      <td>8.202912e-08</td>\n",
       "      <td>...</td>\n",
       "      <td>0</td>\n",
       "      <td>0</td>\n",
       "      <td>0</td>\n",
       "      <td>0</td>\n",
       "      <td>0</td>\n",
       "      <td>0</td>\n",
       "      <td>0</td>\n",
       "      <td>0</td>\n",
       "      <td>0</td>\n",
       "      <td>0</td>\n",
       "    </tr>\n",
       "    <tr>\n",
       "      <th>3</th>\n",
       "      <td>Own Home</td>\n",
       "      <td>-0.687478</td>\n",
       "      <td>-0.110953</td>\n",
       "      <td>-0.637847</td>\n",
       "      <td>0.593985</td>\n",
       "      <td>-0.049781</td>\n",
       "      <td>1.664779</td>\n",
       "      <td>debt consolidation</td>\n",
       "      <td>Short Term</td>\n",
       "      <td>-1.094795e+00</td>\n",
       "      <td>...</td>\n",
       "      <td>0</td>\n",
       "      <td>0</td>\n",
       "      <td>0</td>\n",
       "      <td>0</td>\n",
       "      <td>0</td>\n",
       "      <td>0</td>\n",
       "      <td>0</td>\n",
       "      <td>0</td>\n",
       "      <td>0</td>\n",
       "      <td>0</td>\n",
       "    </tr>\n",
       "    <tr>\n",
       "      <th>4</th>\n",
       "      <td>Rent</td>\n",
       "      <td>-0.725543</td>\n",
       "      <td>-0.110953</td>\n",
       "      <td>0.380774</td>\n",
       "      <td>-0.669954</td>\n",
       "      <td>-0.034903</td>\n",
       "      <td>1.664779</td>\n",
       "      <td>debt consolidation</td>\n",
       "      <td>Short Term</td>\n",
       "      <td>-1.068865e+00</td>\n",
       "      <td>...</td>\n",
       "      <td>0</td>\n",
       "      <td>0</td>\n",
       "      <td>0</td>\n",
       "      <td>0</td>\n",
       "      <td>0</td>\n",
       "      <td>0</td>\n",
       "      <td>0</td>\n",
       "      <td>0</td>\n",
       "      <td>0</td>\n",
       "      <td>0</td>\n",
       "    </tr>\n",
       "  </tbody>\n",
       "</table>\n",
       "<p>5 rows × 35 columns</p>\n",
       "</div>"
      ],
      "text/plain": [
       "  Home Ownership  Annual Income  Tax Liens  Number of Open Accounts  \\\n",
       "0       Own Home      -1.114304  -0.110953                -0.026674   \n",
       "1       Own Home      -0.396190  -0.110953                 0.788223   \n",
       "2  Home Mortgage      -0.758385  -0.110953                -0.026674   \n",
       "3       Own Home      -0.687478  -0.110953                -0.637847   \n",
       "4           Rent      -0.725543  -0.110953                 0.380774   \n",
       "\n",
       "   Years of Credit History  Maximum Open Credit  Number of Credit Problems  \\\n",
       "0                 1.133645            -0.016174                   1.664779   \n",
       "1                -0.428528             0.014763                  -0.340979   \n",
       "2                 2.369181             0.014807                  -0.340979   \n",
       "3                 0.593985            -0.049781                   1.664779   \n",
       "4                -0.669954            -0.034903                   1.664779   \n",
       "\n",
       "              Purpose        Term  Current Loan Amount  ...  \\\n",
       "0  debt consolidation  Short Term         8.202912e-08  ...   \n",
       "1  debt consolidation   Long Term        -2.570651e-01  ...   \n",
       "2  debt consolidation  Short Term         8.202912e-08  ...   \n",
       "3  debt consolidation  Short Term        -1.094795e+00  ...   \n",
       "4  debt consolidation  Short Term        -1.068865e+00  ...   \n",
       "\n",
       "   home improvements  major purchase  medical bills  moving  other  \\\n",
       "0                  0               0              0       0      0   \n",
       "1                  0               0              0       0      0   \n",
       "2                  0               0              0       0      0   \n",
       "3                  0               0              0       0      0   \n",
       "4                  0               0              0       0      0   \n",
       "\n",
       "   renewable energy  small business  take a trip  vacation  wedding  \n",
       "0                 0               0            0         0        0  \n",
       "1                 0               0            0         0        0  \n",
       "2                 0               0            0         0        0  \n",
       "3                 0               0            0         0        0  \n",
       "4                 0               0            0         0        0  \n",
       "\n",
       "[5 rows x 35 columns]"
      ]
     },
     "execution_count": 4086,
     "metadata": {},
     "output_type": "execute_result"
    }
   ],
   "source": [
    "df_train.head()"
   ]
  }
 ],
 "metadata": {
  "kernelspec": {
   "display_name": "Python 3",
   "language": "python",
   "name": "python3"
  },
  "language_info": {
   "codemirror_mode": {
    "name": "ipython",
    "version": 3
   },
   "file_extension": ".py",
   "mimetype": "text/x-python",
   "name": "python",
   "nbconvert_exporter": "python",
   "pygments_lexer": "ipython3",
   "version": "3.9.2"
  }
 },
 "nbformat": 4,
 "nbformat_minor": 4
}
