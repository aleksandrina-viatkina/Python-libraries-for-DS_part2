{
 "cells": [
  {
   "cell_type": "markdown",
   "id": "occasional-amino",
   "metadata": {},
   "source": [
    "#### Задание 1. Приведите по 2 примера, когда лучше максимизировать Precision, а когда Recall.\n",
    "\n"
   ]
  },
  {
   "cell_type": "markdown",
   "id": "lightweight-acceptance",
   "metadata": {},
   "source": [
    "Максимизация точности необходима в таких случаях, как:\n",
    "\n",
    "* Генерирование спама в почте. Если в спам ошибочно попадет \"хорошее\" письмо (FP), то человек его пропустит\n",
    "* Сканирование и интерпретация face id или сканер отпечатка пальца при разблокировке телефона/ноутбука/на входе и пр. \n",
    "* Изучение сроков доставки магазинов и пр. Допустим мы хотим определить какие компании доставят заказ в течении 3 дней. Если туда попадет компания, которая осуществит доставку дольше, клиенты будут недовольны\n",
    "\n",
    "Максимизация полноты важна в таких случаях, как:\n",
    "\n",
    "* Выявления причастных к преступлению или преступника. В данной ситуации крайне важно не упустить причастного человека (данный пример можно привести к максимизации точности)\n",
    "* Исследование регионов/областей на сейсмоактивность перед его заселением или, например, строительством промышленного предприятия. В данном случае ложное определение региона как безопасного может привести к катастрофе\n",
    "* Освидетельствование автомобиля/воздушного судна перед вводом в эксплуатацию, проверка на наличие неисправностей или проверка перед выводом из ремонта. Также ложное решение об исправности может привести к плохим последствиям."
   ]
  },
  {
   "cell_type": "markdown",
   "id": "positive-auditor",
   "metadata": {},
   "source": [
    "#### Задание 2. Почему мы используем F-меру, почему, например, нельзя просто взять среднее от Precision и Recall?"
   ]
  },
  {
   "cell_type": "markdown",
   "id": "insured-causing",
   "metadata": {},
   "source": [
    "Среднее гармоническое демонстрирует в случае F меры важность того, чтобы обе метрики были достаточно высокие (подчеркивает ценность обеих метрик), то есть можно сказать, что \"штрафует\" за низкую одну из метрик\n",
    "\n",
    "Если precision или recall будет равен 0, то и гармоническое среднее будет равно 0, в то время как среднее арифметическое примет значение, отличное от 0"
   ]
  },
  {
   "cell_type": "markdown",
   "id": "adopted-addiction",
   "metadata": {},
   "source": [
    "#### Задание 3*. Реализовать функции для подсчета Accuracy, Precision, Recall, F-score, которые на вход принимают y_true (истинные значения), y_pred (предсказанные значения), а на выход дается метрика."
   ]
  },
  {
   "cell_type": "code",
   "execution_count": 4,
   "id": "realistic-pitch",
   "metadata": {},
   "outputs": [],
   "source": [
    "y_true = [1, 1, 1, 1, 1, 1, 1, 1, 1, 1, 0, 0, 0, 0, 0, 0, 0, 0, 0, 0]\n",
    "y_pred = [1, 1, 0, 0, 0, 1, 1, 1, 1, 0, 0, 0, 0, 0, 0, 1, 1, 1, 0, 1]"
   ]
  },
  {
   "cell_type": "code",
   "execution_count": 5,
   "id": "helpful-aluminum",
   "metadata": {},
   "outputs": [],
   "source": [
    "from sklearn.metrics import confusion_matrix"
   ]
  },
  {
   "cell_type": "code",
   "execution_count": 6,
   "id": "bearing-swedish",
   "metadata": {},
   "outputs": [],
   "source": [
    "a = confusion_matrix(y_true, y_pred)"
   ]
  },
  {
   "cell_type": "code",
   "execution_count": 7,
   "id": "another-digest",
   "metadata": {},
   "outputs": [
    {
     "data": {
      "text/plain": [
       "array([[6, 4],\n",
       "       [4, 6]])"
      ]
     },
     "execution_count": 7,
     "metadata": {},
     "output_type": "execute_result"
    }
   ],
   "source": [
    "a"
   ]
  },
  {
   "cell_type": "code",
   "execution_count": 8,
   "id": "bright-religious",
   "metadata": {},
   "outputs": [],
   "source": [
    "TP = a[0, 0]\n",
    "FP = a[0, 1]\n",
    "FN = a[1, 0]\n",
    "TN = a[1, 1]"
   ]
  },
  {
   "cell_type": "code",
   "execution_count": 13,
   "id": "binary-origin",
   "metadata": {},
   "outputs": [],
   "source": [
    "def find_metrics(y_true, y_pred):\n",
    "    \n",
    "    #определим TP, FP, FN, TN\n",
    "    TP = confusion_matrix(y_true, y_pred)[0, 0]\n",
    "    FP = confusion_matrix(y_true, y_pred)[0, 1]\n",
    "    FN = confusion_matrix(y_true, y_pred)[1, 0]\n",
    "    TN = confusion_matrix(y_true, y_pred)[1, 1]\n",
    "    \n",
    "    #Рассчитаем метрики\n",
    "    acc = (TP+FP)/(TP+FP+FN+TN)\n",
    "    prec_0 = TP/(TP+FP)\n",
    "    prec_1 = FP/(TP+FP)\n",
    "    macroavg_prec = (prec_0+prec_1)/2\n",
    "    weigh_prec = (y_pred.count(0)/len(y_pred)*prec_0 + y_pred.count(1)/len(y_pred)*prec_1)\n",
    "    \n",
    "    \n",
    "    rec_0 = TP/(TP+FN)\n",
    "    rec_1 = FP/(FP+TN)\n",
    "    macroavg_rec = (rec_0 + rec_1)/2\n",
    "    weigh_rec = (y_pred.count(0)/len(y_pred)*rec_0 + y_pred.count(1)/len(y_pred)*rec_1)\n",
    "    \n",
    "    f1_0 = prec_0*rec_0/(prec_0+rec_0)\n",
    "    f1_1 = prec_1*rec_1/(prec_1+rec_1)\n",
    "    macroavg_f1 = (f1_0 + f1_1)/2\n",
    "    weigh_f1 = (y_pred.count(0)/len(y_pred)*f1_0 + y_pred.count(1)/len(y_pred)*f1_1)\n",
    "    \n",
    "    #Выведем результат\n",
    "    print(f'accuracy: {acc} \\n\\npresicion_0: {prec_0} \\npresicion_1: {prec_1}'\n",
    "          f'\\n\\nmacroavg_presicion: {macroavg_prec} \\nweighted_precision: {weigh_prec}'\n",
    "          f' \\n\\nrecall_0: {rec_0} \\nrecall_1: {rec_1}, \\n\\nmacroavg_recall: {macroavg_rec} \\nweighted_recall: {weigh_rec}'\n",
    "          f'\\n\\nf1_score_0: {f1_0} \\nf1_score_1: {f1_1:.2f}, \\n\\nmacroavg_f1_score: {macroavg_f1} \\nweighted_f1_score: {weigh_f1}')\n",
    "    "
   ]
  },
  {
   "cell_type": "code",
   "execution_count": 12,
   "id": "assigned-hearts",
   "metadata": {},
   "outputs": [
    {
     "name": "stdout",
     "output_type": "stream",
     "text": [
      "accuracy: 0.5 \n",
      "\n",
      "presicion_0: 0.6 \n",
      "presicion_1: 0.4\n",
      "\n",
      "macroavg_presicion: 0.5 \n",
      "weighted_precision: 0.5 \n",
      "\n",
      "recall_0: 0.6 \n",
      "recall_1: 0.4, \n",
      "\n",
      "macroavg_recall: 0.5 \n",
      "weighted_recall: 0.5\n",
      "\n",
      "f1_score_0: 0.3 \n",
      "f1_score_1: 0.20, \n",
      "\n",
      "macroavg_f1_score: 0.25 \n",
      "weighted_f1_score: 0.25\n"
     ]
    }
   ],
   "source": [
    "find_metrics(y_true, y_pred)"
   ]
  },
  {
   "cell_type": "code",
   "execution_count": null,
   "id": "suitable-replication",
   "metadata": {},
   "outputs": [],
   "source": []
  }
 ],
 "metadata": {
  "kernelspec": {
   "display_name": "Python 3",
   "language": "python",
   "name": "python3"
  },
  "language_info": {
   "codemirror_mode": {
    "name": "ipython",
    "version": 3
   },
   "file_extension": ".py",
   "mimetype": "text/x-python",
   "name": "python",
   "nbconvert_exporter": "python",
   "pygments_lexer": "ipython3",
   "version": "3.9.2"
  }
 },
 "nbformat": 4,
 "nbformat_minor": 5
}
